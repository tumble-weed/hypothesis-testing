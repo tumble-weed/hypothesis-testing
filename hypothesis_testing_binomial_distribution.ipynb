{
  "nbformat": 4,
  "nbformat_minor": 0,
  "metadata": {
    "colab": {
      "name": "hypothesis testing - binomial distribution.ipynb",
      "version": "0.3.2",
      "provenance": [],
      "collapsed_sections": [],
      "include_colab_link": true
    },
    "kernelspec": {
      "name": "python3",
      "display_name": "Python 3"
    }
  },
  "cells": [
    {
      "cell_type": "markdown",
      "metadata": {
        "id": "view-in-github",
        "colab_type": "text"
      },
      "source": [
        "<a href=\"https://colab.research.google.com/github/tumble-weed/hypothesis-testing/blob/master/hypothesis_testing_binomial_distribution.ipynb\" target=\"_parent\"><img src=\"https://colab.research.google.com/assets/colab-badge.svg\" alt=\"Open In Colab\"/></a>"
      ]
    },
    {
      "cell_type": "markdown",
      "metadata": {
        "id": "_QjI-1fp1Zab",
        "colab_type": "text"
      },
      "source": [
        "#Testing Hypothesis for Binomial parameters"
      ]
    },
    {
      "cell_type": "code",
      "metadata": {
        "id": "1KUnhnptPjwX",
        "colab_type": "code",
        "colab": {}
      },
      "source": [
        "import numpy as np"
      ],
      "execution_count": 0,
      "outputs": []
    },
    {
      "cell_type": "code",
      "metadata": {
        "id": "ElQPVckxUFP4",
        "colab_type": "code",
        "outputId": "af6efe9c-c2ec-4d97-a651-6dd58b7d2b69",
        "colab": {
          "base_uri": "https://localhost:8080/",
          "height": 34
        }
      },
      "source": [
        "p = 0.7\n",
        "def toss(p,n_trials):\n",
        "    '''\n",
        "    toss a coin biased towards heads with probability p\n",
        "    '''\n",
        "    n_success = np.random.binomial(n_trials,p)\n",
        "    return n_success\n",
        "toss(p,10)"
      ],
      "execution_count": 20,
      "outputs": [
        {
          "output_type": "execute_result",
          "data": {
            "text/plain": [
              "7"
            ]
          },
          "metadata": {
            "tags": []
          },
          "execution_count": 20
        }
      ]
    },
    {
      "cell_type": "code",
      "metadata": {
        "id": "TCC3zUMt1V6r",
        "colab_type": "code",
        "colab": {}
      },
      "source": [
        "def get_binomial_PMF(p,n_trials,n_success):\n",
        "    '''\n",
        "    get the probability for a given # of successes\n",
        "    '''\n",
        "    q,n_failure = 1-p,n_trials - n_success\n",
        "    binomial_coeff = np.math.factorial(n_trials)/(np.math.factorial(n_trials-n_success)*np.math.factorial(n_success))\n",
        "    b_knp = binomial_coeff * (p**n_success) * (q**n_failure)\n",
        "    return b_knp\n",
        "\n",
        "def get_binomial_CMF(p,n_trials,lower_inclusive,upper_inclusive):\n",
        "    '''\n",
        "    get the Cumulative probability for a successes in a range\n",
        "    '''\n",
        "    CMF = 0\n",
        "    for n_success in range(lower_inclusive,upper_inclusive+1):\n",
        "        CMF += get_binomial_PMF(p,n_trials,n_success)\n",
        "    return CMF\n"
      ],
      "execution_count": 0,
      "outputs": []
    },
    {
      "cell_type": "code",
      "metadata": {
        "id": "oZkRbvDCWwLD",
        "colab_type": "code",
        "colab": {}
      },
      "source": [
        "\n",
        "def get_reject_region_1side(H0,n_trials,alpha,upper_or_lower = 'upper'):\n",
        "    '''\n",
        "    for 1 sided Hypothesis testing \n",
        "    '''\n",
        "    if upper_or_lower.lower() == 'upper':\n",
        "        CMF = 0\n",
        "        n_success = n_trials\n",
        "        while CMF < alpha:\n",
        "            CMF += get_binomial_PMF(H0,n_trials,n_success)\n",
        "#             print(CMF)\n",
        "            n_success -= 1\n",
        "    elif upper_or_lower.lower() == 'lower':\n",
        "        CMF = 0\n",
        "        n_success = 0\n",
        "        while CMF < alpha:\n",
        "            CMF += get_binomial_PMF(H0,n_trials,n_success)\n",
        "            n_success += 1\n",
        "    else:\n",
        "        raise NotImplementedError\n",
        "    return n_success\n",
        "\n",
        "def get_reject_region_2side(H0,n_trials,alpha):\n",
        "    '''\n",
        "    for 2 sided hypothesis testing\n",
        "    '''\n",
        "    CMF = 0\n",
        "    n_success_left,n_success_right = 0,n_trials\n",
        "    while CMF < alpha:\n",
        "        CMF += get_binomial_PMF(H0,n_trials,n_success_left)\n",
        "        CMF += get_binomial_PMF(H0,n_trials,n_success_right)\n",
        "        n_success_right -= 1\n",
        "        n_success_left += 1\n",
        "    return n_success_left,n_success_right"
      ],
      "execution_count": 0,
      "outputs": []
    },
    {
      "cell_type": "code",
      "metadata": {
        "id": "j9Wc70MIVkih",
        "colab_type": "code",
        "colab": {}
      },
      "source": [
        "def test_binomial_hypothesis(H0,H1,n_trials,n_success,alpha):\n",
        "    '''\n",
        "    test an alternative hypothesis H1 vs the null H0\n",
        "    '''\n",
        "    if H1[0] == '>':\n",
        "        val = H1[1]\n",
        "        critical_region = get_reject_region_1side(H0,n_trials,alpha,upper_or_lower = 'upper')\n",
        "        print(critical_region)\n",
        "        if n_success > critical_region:\n",
        "            print('Reject Null Hypothesis p={}, alternative p {}{}'.format(H0,H1[0],H1[1]))\n",
        "        else:\n",
        "            print('Can\\'t Reject Hypothesis p={}, alternative p {}{}'.format(H0,H1[0],H1[1]))\n",
        "    if H1[0] == '<':\n",
        "        val = H1[1]\n",
        "        critical_region = get_reject_region_1side(H0,n_trials,alpha,upper_or_lower = 'lower')\n",
        "        print(critical_region)\n",
        "        if n_success < critical_region:\n",
        "            print('Reject Null Hypothesis p={}, alternative p {}{}'.format(H0,H1[0],H1[1]))\n",
        "        else:\n",
        "            print('Can\\'t Reject Hypothesis p={}, alternative p {}{}'.format(H0,H1[0],H1[1]))\n",
        "    if H1[0] == '!=':\n",
        "        assert H1[1] == H0\n",
        "        critical_region_left,critical_region_right = get_reject_region_2side(H0,n_trials,alpha)\n",
        "        print(critical_region_left,critical_region_right)\n",
        "        if n_success < critical_region_left or n_success > critical_region_right:\n",
        "            print('Reject Null Hypothesis p = {}, alternative p {} {}'.format(H0,H1[0],H1[1]))\n",
        "        else:\n",
        "            print('Can\\'t Reject Null Hypothesis p = {}, alternative p {} {}'.format(H0,H1[0],H1[1]))\n",
        "        "
      ],
      "execution_count": 0,
      "outputs": []
    },
    {
      "cell_type": "markdown",
      "metadata": {
        "id": "CW2HtyRLZ5vF",
        "colab_type": "text"
      },
      "source": [
        "## Problem 1\n",
        "\n",
        "Suppose the current belief, (the __null hypothesis__ $H_0$) is that $\\pi=0.25$, while the actual binomial parameter is $\\pi=0.7$ (unknown to us). We acquire a sample (using the ```toss``` function)\n",
        "\n",
        "The experimenter makes an __alternative hypothesis__ $H_1$ that $\\pi>0.25$. "
      ]
    },
    {
      "cell_type": "code",
      "metadata": {
        "id": "AVYKxG63Z744",
        "colab_type": "code",
        "colab": {
          "base_uri": "https://localhost:8080/",
          "height": 68
        },
        "outputId": "b9b7f457-fe65-48dc-9818-90e133b08890"
      },
      "source": [
        "p_gt = 0.7\n",
        "H0,H1 = 0.25,('>',0.25)\n",
        "n_trials = 20\n",
        "n_success = toss(p_gt,n_trials)\n",
        "print(n_success)\n",
        "alpha = 0.05\n",
        "test_binomial_hypothesis(H0,H1,n_trials,n_success,alpha)"
      ],
      "execution_count": 29,
      "outputs": [
        {
          "output_type": "stream",
          "text": [
            "13\n",
            "7\n",
            "Reject Null Hypothesis p=0.25, alternative p >0.25\n"
          ],
          "name": "stdout"
        }
      ]
    },
    {
      "cell_type": "markdown",
      "metadata": {
        "id": "5bv0BPWZ1kvy",
        "colab_type": "text"
      },
      "source": [
        "## Problem 2\n",
        "\n",
        "A subject, Rachel, attempts to guess which of 4 cards has been selected, and performs the guessing task for a sequence of 20 trials. The experimenter chooses one of the 4 cards randomly on each trial, and so, the null and alternative hypotheses are H0 : $\\pi = 0.25$, and H1 : $\\pi \\neq 0.25$ \n",
        "\n",
        "Suppose Rachel gets 9 out of 20 correct. "
      ]
    },
    {
      "cell_type": "code",
      "metadata": {
        "id": "xZDT5D20l3CQ",
        "colab_type": "code",
        "outputId": "a8510036-30e8-4ee2-98f2-1b65b759c10f",
        "colab": {
          "base_uri": "https://localhost:8080/",
          "height": 51
        }
      },
      "source": [
        "\n",
        "H0,H1 = 0.25,('>',0.25)\n",
        "n_trials = 20\n",
        "n_success = 9\n",
        "alpha = 0.05\n",
        "test_binomial_hypothesis(H0,H1,n_trials,n_success,alpha)"
      ],
      "execution_count": 35,
      "outputs": [
        {
          "output_type": "stream",
          "text": [
            "7\n",
            "Reject Null Hypothesis p=0.25, alternative p >0.25\n"
          ],
          "name": "stdout"
        }
      ]
    }
  ]
}